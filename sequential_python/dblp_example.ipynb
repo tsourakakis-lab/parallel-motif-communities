{
 "cells": [
  {
   "cell_type": "code",
   "execution_count": null,
   "metadata": {},
   "outputs": [],
   "source": [
    "\n",
    "from utils import *\n",
    "import community as community_louvain\n",
    "plt.rcParams.update({'font.size': 17})\n",
    "plt.figure(figsize=(6,5))"
   ]
  },
  {
   "cell_type": "code",
   "execution_count": null,
   "metadata": {},
   "outputs": [],
   "source": [
    "G = nx.read_edgelist('../large_graph/com-dblp.ungraph.txt', delimiter='\\t')\n",
    "G.remove_edges_from(nx.selfloop_edges(G))\n",
    "G.number_of_nodes(), G.number_of_edges()\n",
    "\n",
    "mapping = {}\n",
    "idx = 0\n",
    "for v in G.nodes():\n",
    "    mapping[v] = idx\n",
    "    idx += 1\n",
    "relabel_G = nx.relabel_nodes(G, mapping)\n",
    "\n",
    "f = open('../large_graph/com-dblp.all.cmty.txt', 'r')\n",
    "line = f.readline()\n",
    "community = defaultdict(set)\n",
    "communities = {}\n",
    "com_idx = 0\n",
    "while line:\n",
    "    tmp = line.strip().split('\\t')\n",
    "#     if len(tmp)<5:\n",
    "#         continue\n",
    "    tmp_l = []\n",
    "    for i in tmp:\n",
    "        community[mapping[i]].add(com_idx)\n",
    "        tmp_l.append(mapping[i])\n",
    "    communities[com_idx] = tmp_l\n",
    "    com_idx += 1\n",
    "    line = f.readline()\n",
    "    "
   ]
  },
  {
   "cell_type": "markdown",
   "metadata": {},
   "source": [
    "## compare density histograms between all groundtruth communities and top 5k"
   ]
  },
  {
   "cell_type": "code",
   "execution_count": null,
   "metadata": {},
   "outputs": [],
   "source": [
    "\n",
    "f = open('../large_graph/com-dblp.top5000.cmty.txt', 'r')\n",
    "line = f.readline()\n",
    "community5k = defaultdict(set)\n",
    "communities5k = {}\n",
    "com_idx = 0\n",
    "while line:\n",
    "    tmp = line.strip().split('\\t')\n",
    "#     if len(tmp)<5:\n",
    "#         continue\n",
    "    tmp_l = []\n",
    "    for i in tmp:\n",
    "        community5k[mapping[i]].add(com_idx)\n",
    "        tmp_l.append(mapping[i])\n",
    "    communities5k[com_idx] = tmp_l\n",
    "    com_idx += 1\n",
    "    line = f.readline()"
   ]
  },
  {
   "cell_type": "code",
   "execution_count": null,
   "metadata": {},
   "outputs": [],
   "source": [
    "density = []\n",
    "G = relabel_G\n",
    "for cn in communities:\n",
    "    c = communities[cn]\n",
    "    if len(c)<2:\n",
    "        continue\n",
    "    d = 2*G.subgraph(c).number_of_edges()/(G.subgraph(c).number_of_nodes()*(G.subgraph(c).number_of_nodes()-1))\n",
    "    density.append(d)\n",
    "    \n",
    "density5k = []\n",
    "for cn in communities5k:\n",
    "    c = communities5k[cn]\n",
    "    d = 2*G.subgraph(c).number_of_edges()/(G.subgraph(c).number_of_nodes()*(G.subgraph(c).number_of_nodes()-1))\n",
    "    density5k.append(d)"
   ]
  },
  {
   "cell_type": "code",
   "execution_count": null,
   "metadata": {},
   "outputs": [],
   "source": [
    "a,b,c = plt.hist((density, density5k))"
   ]
  },
  {
   "cell_type": "code",
   "execution_count": null,
   "metadata": {},
   "outputs": [],
   "source": [
    "d = a[0]/np.sum(a[0])\n",
    "d5k = a[1]/np.sum(a[1])\n",
    "xs = np.arange(0.05,1,0.1)"
   ]
  },
  {
   "cell_type": "code",
   "execution_count": null,
   "metadata": {},
   "outputs": [],
   "source": [
    "plt.bar(xs-0.02, d, width=0.04, label='All communities')\n",
    "plt.bar(xs+0.02, d5k, width=0.04, label='Top 5k communities')\n",
    "plt.xlabel('density')\n",
    "plt.ylabel('Empirical distribution')\n",
    "# plt.legend()\n",
    "plt.ylim(0,0.45)\n",
    "plt.tight_layout()\n",
    "plt.savefig('dblp_community_density_compare.png')\n",
    "plt.show()"
   ]
  },
  {
   "cell_type": "code",
   "execution_count": null,
   "metadata": {},
   "outputs": [],
   "source": []
  },
  {
   "cell_type": "markdown",
   "metadata": {},
   "source": [
    "## Compute number of wedges and triangles contributed by each edge"
   ]
  },
  {
   "cell_type": "code",
   "execution_count": null,
   "metadata": {},
   "outputs": [],
   "source": [
    "start_time = time.time()\n",
    "for e in relabel_G.edges():\n",
    "    relabel_G[e[0]][e[1]]['triangle'] = len(set(relabel_G[e[0]])&set(relabel_G[e[1]]))\n",
    "print('triangle', time.time() - start_time)\n",
    "\n",
    "start_time = time.time()\n",
    "for e in relabel_G.edges():\n",
    "    relabel_G[e[0]][e[1]]['wedge'] = len(set(relabel_G[e[0]])|set(relabel_G[e[1]])) - relabel_G[e[0]][e[1]]['triangle']\n",
    "print('wedge', time.time() - start_time)"
   ]
  },
  {
   "cell_type": "markdown",
   "metadata": {},
   "source": [
    "## motif-based community detection based on different similarity scores"
   ]
  },
  {
   "cell_type": "code",
   "execution_count": null,
   "metadata": {},
   "outputs": [],
   "source": [
    "\n",
    "def plot(metrics,n, xticks=None, legend=True, savepath=None, highlight=None):\n",
    "    plt.plot(np.array(metrics[\"num_components\"])/n, \n",
    "             label='norm # CC', marker='d')\n",
    "    plt.plot(np.array(metrics[\"edges_removed\"]), label='norm edges', marker='x')\n",
    "    plt.plot(np.array(metrics[\"largest_size\"])/n, label='norm |largest CC|', marker='1')\n",
    "    plt.plot(np.array(metrics[\"modularity\"]), label='Modularity', marker='o')\n",
    "    plt.plot(metrics[\"f1\"], label='F1', marker='s')\n",
    "    if legend:\n",
    "        plt.legend(ncol=2,fontsize='14')\n",
    "    if xticks is not None:\n",
    "        xticks_vis = []\n",
    "        for i in range(len(xticks)):\n",
    "            if i%2==0:\n",
    "                xticks_vis.append(round(xticks[i],3))\n",
    "            else:\n",
    "                xticks_vis.append('')\n",
    "        plt.xticks([i for i in range(len(xticks))], xticks_vis, rotation=30)\n",
    "    plt.ylim(-0.1,1.1)\n",
    "    if highlight is not None:\n",
    "        plt.axvspan(highlight[0], highlight[1], color='red', alpha=0.3)\n",
    "    if savepath is not None:\n",
    "        plt.tight_layout()\n",
    "        plt.savefig(savepath)\n",
    "    plt.show()"
   ]
  },
  {
   "cell_type": "code",
   "execution_count": null,
   "metadata": {},
   "outputs": [],
   "source": [
    "def TW_edge_func(relabel_G, e, theta):\n",
    "    return relabel_G[e[0]][e[1]]['triangle']-relabel_G[e[0]][e[1]]['wedge'] > theta"
   ]
  },
  {
   "cell_type": "code",
   "execution_count": null,
   "metadata": {
    "scrolled": true
   },
   "outputs": [],
   "source": [
    "TW_metrics = thresholding_by_partition(relabel_G, range(-30,0,2), TW_edge_func, communities, community)"
   ]
  },
  {
   "cell_type": "code",
   "execution_count": null,
   "metadata": {},
   "outputs": [],
   "source": [
    "plot(TW_metrics, G.number_of_nodes(), range(-30,0,2), legend=True, savepath='dblp_tw.png', highlight=(8,10))"
   ]
  },
  {
   "cell_type": "code",
   "execution_count": null,
   "metadata": {},
   "outputs": [],
   "source": []
  },
  {
   "cell_type": "code",
   "execution_count": null,
   "metadata": {},
   "outputs": [],
   "source": [
    "tec_metrics = thresholding_by_partition(relabel_G, 0.01*np.arange(1, 30, 2), tec_edge_func, communities, community)"
   ]
  },
  {
   "cell_type": "code",
   "execution_count": null,
   "metadata": {},
   "outputs": [],
   "source": [
    "plot(tec_metrics, G.number_of_nodes(), 0.01*np.arange(1, 30, 2), legend=False,\n",
    "     savepath='dblp_tec.png', highlight=(7,9))"
   ]
  },
  {
   "cell_type": "code",
   "execution_count": null,
   "metadata": {},
   "outputs": [],
   "source": []
  },
  {
   "cell_type": "code",
   "execution_count": null,
   "metadata": {},
   "outputs": [],
   "source": [
    "k3_metrics = thresholding_by_partition(relabel_G, np.arange(0, 15), k3_edge_func, communities, community)"
   ]
  },
  {
   "cell_type": "code",
   "execution_count": null,
   "metadata": {},
   "outputs": [],
   "source": [
    "plot(k3_metrics, G.number_of_nodes(), np.arange(0, 15), legend=False, savepath='dblp_k3.png', highlight=(4,6))"
   ]
  },
  {
   "cell_type": "code",
   "execution_count": null,
   "metadata": {},
   "outputs": [],
   "source": []
  },
  {
   "cell_type": "markdown",
   "metadata": {},
   "source": [
    "## Other competitors"
   ]
  },
  {
   "cell_type": "markdown",
   "metadata": {},
   "source": [
    "### infomap"
   ]
  },
  {
   "cell_type": "code",
   "execution_count": null,
   "metadata": {},
   "outputs": [],
   "source": [
    "import infomap\n",
    "import networkx as nx\n",
    "\n",
    "def infomap_community_detection(G, communities, community):\n",
    "    \"\"\"\n",
    "    Apply the Infomap algorithm to detect communities in a network.\n",
    "\n",
    "    Parameters:\n",
    "    G (networkx.Graph): A NetworkX graph object.\n",
    "\n",
    "    Returns:\n",
    "    dict: A dictionary where keys are node IDs and values are community IDs.\n",
    "    \"\"\"\n",
    "\n",
    "    # Create an Infomap instance\n",
    "    im = infomap.Infomap(silent=True)\n",
    "\n",
    "    # Add edges to the Infomap instance\n",
    "    for edge in G.edges():\n",
    "        im.add_link(*edge)\n",
    "\n",
    "    # Run the Infomap clustering algorithm\n",
    "    im.run()\n",
    "    infox, infoy, infof1 = [], [], []\n",
    "    for i in range(1,im.max_depth+1):\n",
    "        info_com = im.get_modules(i)\n",
    "        info_community = [[] for i in range(max(info_com.values())+1)]\n",
    "\n",
    "        for i in info_com:\n",
    "            info_community[info_com[i]].append(i)\n",
    "        p,r,f1 = evaluate2(G, info_community, communities, community, False)\n",
    "        infox.append(p)\n",
    "        infoy.append(r)\n",
    "        infof1.append(f1)\n",
    "    return infox, infoy, infof1"
   ]
  },
  {
   "cell_type": "code",
   "execution_count": null,
   "metadata": {},
   "outputs": [],
   "source": [
    "infox, infoy, infof1 = infomap_community_detection(relabel_G, communities, community)"
   ]
  },
  {
   "cell_type": "markdown",
   "metadata": {},
   "source": [
    "### Louvain - resolution by dendrogram"
   ]
  },
  {
   "cell_type": "code",
   "execution_count": null,
   "metadata": {},
   "outputs": [],
   "source": [
    "import community as community_louvain\n",
    "louvainx = []\n",
    "louvainy = []\n",
    "total_t = []\n",
    "# compute the best partition\n",
    "start_time = time.time()\n",
    "dendrogram = community_louvain.generate_dendrogram(relabel_G)\n",
    "print('first period running', time.time() - start_time)\n",
    "for j in range(len(dendrogram)):\n",
    "    start_time = time.time()\n",
    "    partition = community_louvain.partition_at_level(dendrogram, j)\n",
    "    louvain_com = [[] for i in range(max(partition.values())+1)]\n",
    "    \n",
    "    for i in partition:\n",
    "        louvain_com[partition[i]].append(i)\n",
    "    total_t.append(time.time() - start_time)\n",
    "    p,r,f1 = evaluate1(relabel_G, louvain_com, communities, False)\n",
    "    louvainx.append(p)\n",
    "    louvainy.append(r)\n",
    "    print('precision and recall', p, r, f1)\n",
    "print('avg running time', np.average(total_t))"
   ]
  },
  {
   "cell_type": "markdown",
   "metadata": {},
   "source": [
    "### Louvain - resolution by parameter"
   ]
  },
  {
   "cell_type": "code",
   "execution_count": null,
   "metadata": {},
   "outputs": [],
   "source": [
    "louvainx, louvainy, louvainf1, louvain_num = [], [], [], []\n",
    "for resolution in [1e-6,1e-5,5e-5,1e-4,2e-4,5e-4,7e-4, 0.001,0.01]:\n",
    "    partition = community_louvain.best_partition(relabel_G, resolution=resolution)\n",
    "    louvain_com = [[] for i in range(max(partition.values())+1)]\n",
    "\n",
    "    for i in partition:\n",
    "        louvain_com[partition[i]].append(i)\n",
    "    p,r,f1 = evaluate2(relabel_G, louvain_com, communities, community, False)\n",
    "    louvainx.append(p)\n",
    "    louvainy.append(r)\n",
    "    louvainf1.append(f1)\n",
    "    louvain_num.append(len(louvain_com))\n",
    "    print(resolution, p,r,f1, len(louvain_com))"
   ]
  },
  {
   "cell_type": "markdown",
   "metadata": {},
   "source": [
    "### label propagation communities"
   ]
  },
  {
   "cell_type": "code",
   "execution_count": null,
   "metadata": {},
   "outputs": [],
   "source": [
    "lp_com = nx.algorithms.community.label_propagation_communities(relabel_G)\n",
    "p,r,f1 = evaluate2(relabel_G, lp_com, communities, community, False)\n",
    "lpc_x,lpc_y,lpc_f1,lpc_num = [p],[r],[f1],[len(lp_com)]\n",
    "p,r,f1, len(lp_com)"
   ]
  },
  {
   "cell_type": "markdown",
   "metadata": {},
   "source": [
    "### PCC and PMod code can be found here: https://github.com/jeshi96/parallel-correlation-clustering"
   ]
  },
  {
   "cell_type": "code",
   "execution_count": null,
   "metadata": {},
   "outputs": [],
   "source": [
    "plt.rcParams.update({'font.size': 18})\n",
    "plt.figure(figsize=(6,5))\n",
    "\n",
    "plt.plot(infox,infoy, marker='o', label='Infomap',c='pink')\n",
    "plt.plot(lpc_x,lpc_y, marker='d', label='LPC',c='b')\n",
    "\n",
    "# de-comment if you have results from pcc and pmod\n",
    "# plt.plot(pcc_x, pcc_y, marker='>', label='PCC',c='purple')\n",
    "# plt.plot(mod_x, mod_y, marker='x', label='PMod',c='brown')\n",
    "\n",
    "plt.plot(TW_metrics['precision'],TW_metrics[\"recall\"], marker='d', label='TW',c='r')\n",
    "plt.plot(tec_metrics['precision'], tec_metrics[\"recall\"], marker='>', label='Tectonic',c='g')\n",
    "plt.plot(k3_metrics['precision'],k3_metrics[\"recall\"], marker='x', label='K3',c='orange')\n",
    "\n",
    "plt.legend()\n",
    "plt.xlabel('precision')\n",
    "plt.ylabel('recall')\n",
    "# plt.tight_layout()\n",
    "# plt.savefig('dblp.png')\n",
    "plt.show()"
   ]
  },
  {
   "cell_type": "code",
   "execution_count": null,
   "metadata": {},
   "outputs": [],
   "source": []
  }
 ],
 "metadata": {
  "kernelspec": {
   "display_name": "torchgt_alma8",
   "language": "python",
   "name": "torchgt_alma8"
  },
  "language_info": {
   "codemirror_mode": {
    "name": "ipython",
    "version": 3
   },
   "file_extension": ".py",
   "mimetype": "text/x-python",
   "name": "python",
   "nbconvert_exporter": "python",
   "pygments_lexer": "ipython3",
   "version": "3.8.18"
  }
 },
 "nbformat": 4,
 "nbformat_minor": 4
}
